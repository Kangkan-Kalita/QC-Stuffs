{
  "nbformat": 4,
  "nbformat_minor": 0,
  "metadata": {
    "colab": {
      "provenance": [],
      "authorship_tag": "ABX9TyPcSBWMe+CismdD8xk12oZq",
      "include_colab_link": true
    },
    "kernelspec": {
      "name": "python3",
      "display_name": "Python 3"
    },
    "language_info": {
      "name": "python"
    }
  },
  "cells": [
    {
      "cell_type": "markdown",
      "metadata": {
        "id": "view-in-github",
        "colab_type": "text"
      },
      "source": [
        "<a href=\"https://colab.research.google.com/github/Rio-31/QC-Stuffs/blob/main/Encryption_In_Python_(QxQ_Capstone_Project)_by_Kangkan_Kalita.ipynb\" target=\"_parent\"><img src=\"https://colab.research.google.com/assets/colab-badge.svg\" alt=\"Open In Colab\"/></a>"
      ]
    },
    {
      "cell_type": "code",
      "execution_count": null,
      "metadata": {
        "id": "OpvwwSlH_RhR"
      },
      "outputs": [],
      "source": [
        "import hashlib\n",
        "import base64\n",
        "from cryptography.fernet import Fernet\n"
      ]
    },
    {
      "cell_type": "code",
      "source": [
        "# Define the message to be encrypted and the password\n",
        "message = \"I suck at Quantum Computing !\"\n",
        "password = \"your_password_here\"\n"
      ],
      "metadata": {
        "id": "Ccac7ghb_xmK"
      },
      "execution_count": null,
      "outputs": []
    },
    {
      "cell_type": "code",
      "source": [
        "# Encode the password and hash it using SHA-256\n",
        "password_bytes = password.encode('utf-8')\n",
        "hash_object = hashlib.sha256()\n",
        "hash_object.update(password_bytes)\n",
        "hashed_password = hash_object.digest()\n"
      ],
      "metadata": {
        "id": "7nG4BHVe_1qk"
      },
      "execution_count": null,
      "outputs": []
    },
    {
      "cell_type": "code",
      "source": [
        "# Generate a key for encryption from the hashed password\n",
        "encryption_key = Fernet(base64.urlsafe_b64encode(hashed_password))\n"
      ],
      "metadata": {
        "id": "VZKRPlgIAD1A"
      },
      "execution_count": null,
      "outputs": []
    },
    {
      "cell_type": "code",
      "source": [
        "# Encrypt the message\n",
        "encrypted_message = encryption_key.encrypt(message.encode())\n"
      ],
      "metadata": {
        "id": "uAS-FCGGAPXy"
      },
      "execution_count": null,
      "outputs": []
    },
    {
      "cell_type": "code",
      "source": [
        "# Decrypt the message\n",
        "decrypted_message = encryption_key.decrypt(encrypted_message).decode()\n"
      ],
      "metadata": {
        "id": "H9-xmLu3AWto"
      },
      "execution_count": null,
      "outputs": []
    },
    {
      "cell_type": "code",
      "source": [
        "# Print the original message, encrypted message, and decrypted message\n",
        "print(\"Original message:\", message)\n",
        "print(\"Encrypted message:\", encrypted_message)\n",
        "print(\"Decrypted message:\", decrypted_message)\n"
      ],
      "metadata": {
        "colab": {
          "base_uri": "https://localhost:8080/"
        },
        "id": "OoUBEMQ3AZp_",
        "outputId": "3b64d2de-2e7a-4f83-caa7-612ecfa16e2b"
      },
      "execution_count": null,
      "outputs": [
        {
          "output_type": "stream",
          "name": "stdout",
          "text": [
            "Original message: I suck at Quantum Computing\n",
            "Encrypted message: b'gAAAAABmI-aqLLuP1FU2AA_I8EuXC4emxND05mp_sOVt4COlPsYA2eufFnSZxFyhv55BNdrsN8wMOJHma8cneIFTLDJmjbWorhT9dRNv5dg04JSNeKgSZ_k='\n",
            "Decrypted message: I suck at Quantum Computing\n"
          ]
        }
      ]
    }
  ]
}